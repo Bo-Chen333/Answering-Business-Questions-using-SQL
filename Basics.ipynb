{
 "cells": [
  {
   "cell_type": "markdown",
   "metadata": {},
   "source": [
    "# **Creating Helper Functions**"
   ]
  },
  {
   "cell_type": "code",
   "execution_count": 2,
   "metadata": {
    "collapsed": false
   },
   "outputs": [
    {
     "data": {
      "text/html": [
       "<div>\n",
       "<style scoped>\n",
       "    .dataframe tbody tr th:only-of-type {\n",
       "        vertical-align: middle;\n",
       "    }\n",
       "\n",
       "    .dataframe tbody tr th {\n",
       "        vertical-align: top;\n",
       "    }\n",
       "\n",
       "    .dataframe thead th {\n",
       "        text-align: right;\n",
       "    }\n",
       "</style>\n",
       "<table border=\"1\" class=\"dataframe\">\n",
       "  <thead>\n",
       "    <tr style=\"text-align: right;\">\n",
       "      <th></th>\n",
       "      <th>name</th>\n",
       "      <th>type</th>\n",
       "    </tr>\n",
       "  </thead>\n",
       "  <tbody>\n",
       "    <tr>\n",
       "      <th>0</th>\n",
       "      <td>album</td>\n",
       "      <td>table</td>\n",
       "    </tr>\n",
       "    <tr>\n",
       "      <th>1</th>\n",
       "      <td>artist</td>\n",
       "      <td>table</td>\n",
       "    </tr>\n",
       "    <tr>\n",
       "      <th>2</th>\n",
       "      <td>customer</td>\n",
       "      <td>table</td>\n",
       "    </tr>\n",
       "    <tr>\n",
       "      <th>3</th>\n",
       "      <td>employee</td>\n",
       "      <td>table</td>\n",
       "    </tr>\n",
       "    <tr>\n",
       "      <th>4</th>\n",
       "      <td>genre</td>\n",
       "      <td>table</td>\n",
       "    </tr>\n",
       "    <tr>\n",
       "      <th>5</th>\n",
       "      <td>invoice</td>\n",
       "      <td>table</td>\n",
       "    </tr>\n",
       "    <tr>\n",
       "      <th>6</th>\n",
       "      <td>invoice_line</td>\n",
       "      <td>table</td>\n",
       "    </tr>\n",
       "    <tr>\n",
       "      <th>7</th>\n",
       "      <td>media_type</td>\n",
       "      <td>table</td>\n",
       "    </tr>\n",
       "    <tr>\n",
       "      <th>8</th>\n",
       "      <td>playlist</td>\n",
       "      <td>table</td>\n",
       "    </tr>\n",
       "    <tr>\n",
       "      <th>9</th>\n",
       "      <td>playlist_track</td>\n",
       "      <td>table</td>\n",
       "    </tr>\n",
       "    <tr>\n",
       "      <th>10</th>\n",
       "      <td>track</td>\n",
       "      <td>table</td>\n",
       "    </tr>\n",
       "  </tbody>\n",
       "</table>\n",
       "</div>"
      ],
      "text/plain": [
       "              name   type\n",
       "0            album  table\n",
       "1           artist  table\n",
       "2         customer  table\n",
       "3         employee  table\n",
       "4            genre  table\n",
       "5          invoice  table\n",
       "6     invoice_line  table\n",
       "7       media_type  table\n",
       "8         playlist  table\n",
       "9   playlist_track  table\n",
       "10           track  table"
      ]
     },
     "execution_count": 2,
     "metadata": {},
     "output_type": "execute_result"
    }
   ],
   "source": [
    "import sqlite3\n",
    "import pandas as pd\n",
    "import matplotlib.pyplot as plt\n",
    "%matplotlib inline\n",
    "\n",
    "def run_query(q):\n",
    "    with sqlite3.connect('chinook.db') as conn:\n",
    "        return pd.read_sql(q, conn)\n",
    "    \n",
    "def run_command(c):\n",
    "    with sqlite3.connect('chinook.db') as conn:\n",
    "        conn.isolation_level = None\n",
    "        conn.execute(c)\n",
    "        \n",
    "def show_tables():\n",
    "    q = '''\n",
    "        SELECT\n",
    "            name,\n",
    "            type\n",
    "        FROM sqlite_master\n",
    "        WHERE type IN (\"table\",\"view\");\n",
    "        '''\n",
    "    return run_query(q)\n",
    "    \n",
    "show_tables()"
   ]
  },
  {
   "cell_type": "markdown",
   "metadata": {},
   "source": [
    "# ** Selecting Albums to Purchase**"
   ]
  },
  {
   "cell_type": "code",
   "execution_count": 3,
   "metadata": {
    "collapsed": false
   },
   "outputs": [
    {
     "data": {
      "text/html": [
       "<div>\n",
       "<style scoped>\n",
       "    .dataframe tbody tr th:only-of-type {\n",
       "        vertical-align: middle;\n",
       "    }\n",
       "\n",
       "    .dataframe tbody tr th {\n",
       "        vertical-align: top;\n",
       "    }\n",
       "\n",
       "    .dataframe thead th {\n",
       "        text-align: right;\n",
       "    }\n",
       "</style>\n",
       "<table border=\"1\" class=\"dataframe\">\n",
       "  <thead>\n",
       "    <tr style=\"text-align: right;\">\n",
       "      <th></th>\n",
       "      <th>genre_name</th>\n",
       "      <th>total_quantity</th>\n",
       "      <th>quantity_per</th>\n",
       "    </tr>\n",
       "  </thead>\n",
       "  <tbody>\n",
       "    <tr>\n",
       "      <th>0</th>\n",
       "      <td>Rock</td>\n",
       "      <td>561</td>\n",
       "      <td>0.533777</td>\n",
       "    </tr>\n",
       "    <tr>\n",
       "      <th>1</th>\n",
       "      <td>Alternative &amp; Punk</td>\n",
       "      <td>130</td>\n",
       "      <td>0.123692</td>\n",
       "    </tr>\n",
       "    <tr>\n",
       "      <th>2</th>\n",
       "      <td>Metal</td>\n",
       "      <td>124</td>\n",
       "      <td>0.117983</td>\n",
       "    </tr>\n",
       "    <tr>\n",
       "      <th>3</th>\n",
       "      <td>R&amp;B/Soul</td>\n",
       "      <td>53</td>\n",
       "      <td>0.050428</td>\n",
       "    </tr>\n",
       "    <tr>\n",
       "      <th>4</th>\n",
       "      <td>Blues</td>\n",
       "      <td>36</td>\n",
       "      <td>0.034253</td>\n",
       "    </tr>\n",
       "    <tr>\n",
       "      <th>5</th>\n",
       "      <td>Alternative</td>\n",
       "      <td>35</td>\n",
       "      <td>0.033302</td>\n",
       "    </tr>\n",
       "    <tr>\n",
       "      <th>6</th>\n",
       "      <td>Latin</td>\n",
       "      <td>22</td>\n",
       "      <td>0.020932</td>\n",
       "    </tr>\n",
       "    <tr>\n",
       "      <th>7</th>\n",
       "      <td>Pop</td>\n",
       "      <td>22</td>\n",
       "      <td>0.020932</td>\n",
       "    </tr>\n",
       "    <tr>\n",
       "      <th>8</th>\n",
       "      <td>Hip Hop/Rap</td>\n",
       "      <td>20</td>\n",
       "      <td>0.019029</td>\n",
       "    </tr>\n",
       "    <tr>\n",
       "      <th>9</th>\n",
       "      <td>Jazz</td>\n",
       "      <td>14</td>\n",
       "      <td>0.013321</td>\n",
       "    </tr>\n",
       "  </tbody>\n",
       "</table>\n",
       "</div>"
      ],
      "text/plain": [
       "           genre_name  total_quantity  quantity_per\n",
       "0                Rock             561      0.533777\n",
       "1  Alternative & Punk             130      0.123692\n",
       "2               Metal             124      0.117983\n",
       "3            R&B/Soul              53      0.050428\n",
       "4               Blues              36      0.034253\n",
       "5         Alternative              35      0.033302\n",
       "6               Latin              22      0.020932\n",
       "7                 Pop              22      0.020932\n",
       "8         Hip Hop/Rap              20      0.019029\n",
       "9                Jazz              14      0.013321"
      ]
     },
     "execution_count": 3,
     "metadata": {},
     "output_type": "execute_result"
    }
   ],
   "source": [
    "query = '''\n",
    "        WITH usa_tracks_sold AS\n",
    "           (\n",
    "            SELECT il.* FROM invoice_line il\n",
    "            INNER JOIN invoice i on il.invoice_id = i.invoice_id\n",
    "            INNER JOIN customer c on i.customer_id = c.customer_id\n",
    "            WHERE c.country = \"USA\"\n",
    "           )\n",
    "        SELECT \n",
    "            g.name genre_name,\n",
    "            SUM(inl.quantity) total_quantity,\n",
    "            CAST(SUM(inl.quantity) AS float)/CAST((SELECT SUM(quantity) FROM usa_tracks_sold) AS float) quantity_per\n",
    "        FROM track t\n",
    "        INNER JOIN usa_tracks_sold inl ON t.track_id = inl.track_id\n",
    "        INNER JOIN genre g ON g.genre_id = t.genre_id\n",
    "        GROUP BY 1\n",
    "        ORDER BY total_quantity DESC \n",
    "        LIMIT 10\n",
    "        '''\n",
    "run_query(query)"
   ]
  },
  {
   "cell_type": "code",
   "execution_count": 4,
   "metadata": {
    "collapsed": false
   },
   "outputs": [
    {
     "data": {
      "image/png": "[encoded data removed]",
      "text/plain": [
       "<matplotlib.figure.Figure at 0x7f8a9c9eac88>"
      ]
     },
     "metadata": {},
     "output_type": "display_data"
    }
   ],
   "source": [
    "genre_sales_usa = run_query(query)\n",
    "genre_sales_usa.set_index(\"genre_name\", inplace=True, drop=True)\n",
    "genre_sales_usa[\"total_quantity\"].plot.barh(title=\"Top Selling Genres in the USA\")\n",
    "\n",
    "for i, label in enumerate(list(genre_sales_usa.index)):\n",
    "    score = genre_sales_usa.loc[label, \"total_quantity\"]\n",
    "    label = (genre_sales_usa.loc[label, \"quantity_per\"] * 100\n",
    "            ).astype(int).astype(str) + \"%\"\n",
    "    plt.annotate(str(label), (score + 10, i - 0.15))\n",
    "\n",
    "plt.show()"
   ]
  },
  {
   "cell_type": "markdown",
   "metadata": {
    "collapsed": true
   },
   "source": [
    "Based on the top selling genres in the USA, we should purchase:\n",
    "1. Red Tone's Punk music\n",
    "2. Slim Jim Bites's Blues music\n",
    "3. Meteor and the Girls's Pop music\n",
    "\n",
    "It's worth keeping in mind that combined, these three genres only make up only 17% of total sales, so we should be on the lookout for artists and albums from the 'rock' genre, which accounts for 53% of sales. "
   ]
  },
  {
   "cell_type": "markdown",
   "metadata": {},
   "source": [
    "# **Analyzing Employee Sales Performance**"
   ]
  },
  {
   "cell_type": "code",
   "execution_count": 5,
   "metadata": {
    "collapsed": false
   },
   "outputs": [
    {
     "data": {
      "text/html": [
       "<div>\n",
       "<style scoped>\n",
       "    .dataframe tbody tr th:only-of-type {\n",
       "        vertical-align: middle;\n",
       "    }\n",
       "\n",
       "    .dataframe tbody tr th {\n",
       "        vertical-align: top;\n",
       "    }\n",
       "\n",
       "    .dataframe thead th {\n",
       "        text-align: right;\n",
       "    }\n",
       "</style>\n",
       "<table border=\"1\" class=\"dataframe\">\n",
       "  <thead>\n",
       "    <tr style=\"text-align: right;\">\n",
       "      <th></th>\n",
       "      <th>employee_name</th>\n",
       "      <th>sale_total</th>\n",
       "      <th>hire_date</th>\n",
       "    </tr>\n",
       "  </thead>\n",
       "  <tbody>\n",
       "    <tr>\n",
       "      <th>0</th>\n",
       "      <td>Jane Peacock</td>\n",
       "      <td>1731.51</td>\n",
       "      <td>2017-04-01 00:00:00</td>\n",
       "    </tr>\n",
       "    <tr>\n",
       "      <th>1</th>\n",
       "      <td>Margaret Park</td>\n",
       "      <td>1584.00</td>\n",
       "      <td>2017-05-03 00:00:00</td>\n",
       "    </tr>\n",
       "    <tr>\n",
       "      <th>2</th>\n",
       "      <td>Steve Johnson</td>\n",
       "      <td>1393.92</td>\n",
       "      <td>2017-10-17 00:00:00</td>\n",
       "    </tr>\n",
       "  </tbody>\n",
       "</table>\n",
       "</div>"
      ],
      "text/plain": [
       "   employee_name  sale_total            hire_date\n",
       "0   Jane Peacock     1731.51  2017-04-01 00:00:00\n",
       "1  Margaret Park     1584.00  2017-05-03 00:00:00\n",
       "2  Steve Johnson     1393.92  2017-10-17 00:00:00"
      ]
     },
     "execution_count": 5,
     "metadata": {},
     "output_type": "execute_result"
    }
   ],
   "source": [
    "query1 = '''\n",
    "        SELECT \n",
    "            e.first_name || \" \" || e.last_name employee_name,\n",
    "            SUM(inv.total) sale_total,\n",
    "            e.hire_date\n",
    "        FROM employee e\n",
    "        INNER JOIN customer c ON e.employee_id = c.support_rep_id\n",
    "        INNER JOIN invoice inv ON c.customer_id = inv.customer_id\n",
    "        GROUP BY 1\n",
    "        '''\n",
    "run_query(query1)"
   ]
  },
  {
   "cell_type": "code",
   "execution_count": 6,
   "metadata": {
    "collapsed": false
   },
   "outputs": [
    {
     "data": {
      "text/plain": [
       "<matplotlib.text.Text at 0x7f8a92b868d0>"
      ]
     },
     "execution_count": 6,
     "metadata": {},
     "output_type": "execute_result"
    },
    {
     "data": {
      "image/png": "[encoded data removed]",
      "text/plain": [
       "<matplotlib.figure.Figure at 0x7f8a9c92dfd0>"
      ]
     },
     "metadata": {},
     "output_type": "display_data"
    }
   ],
   "source": [
    "employee_sale = run_query(query1)\n",
    "employee_sale.set_index(\"employee_name\", inplace=True, drop=True)\n",
    "employee_sale[\"sale_total\"].plot.barh(title=\"employee sales\", xlim=(0,1800), colormap=plt.cm.Accent)\n",
    "plt.ylabel('')\n"
   ]
  },
  {
   "cell_type": "markdown",
   "metadata": {},
   "source": [
    "The difference in sales roughly corresponds with the differences in their hiring dates"
   ]
  },
  {
   "cell_type": "markdown",
   "metadata": {},
   "source": [
    "# **Analyzing Sales by Country**"
   ]
  },
  {
   "cell_type": "code",
   "execution_count": 7,
   "metadata": {
    "collapsed": false
   },
   "outputs": [
    {
     "data": {
      "text/html": [
       "<div>\n",
       "<style scoped>\n",
       "    .dataframe tbody tr th:only-of-type {\n",
       "        vertical-align: middle;\n",
       "    }\n",
       "\n",
       "    .dataframe tbody tr th {\n",
       "        vertical-align: top;\n",
       "    }\n",
       "\n",
       "    .dataframe thead th {\n",
       "        text-align: right;\n",
       "    }\n",
       "</style>\n",
       "<table border=\"1\" class=\"dataframe\">\n",
       "  <thead>\n",
       "    <tr style=\"text-align: right;\">\n",
       "      <th></th>\n",
       "      <th>country</th>\n",
       "      <th>customer_number</th>\n",
       "      <th>total_sales</th>\n",
       "      <th>ave_value_per_customer</th>\n",
       "      <th>ave_order_value</th>\n",
       "    </tr>\n",
       "  </thead>\n",
       "  <tbody>\n",
       "    <tr>\n",
       "      <th>0</th>\n",
       "      <td>USA</td>\n",
       "      <td>13</td>\n",
       "      <td>1040.49</td>\n",
       "      <td>80.037692</td>\n",
       "      <td>7.942672</td>\n",
       "    </tr>\n",
       "    <tr>\n",
       "      <th>1</th>\n",
       "      <td>Canada</td>\n",
       "      <td>8</td>\n",
       "      <td>535.59</td>\n",
       "      <td>66.948750</td>\n",
       "      <td>7.047237</td>\n",
       "    </tr>\n",
       "    <tr>\n",
       "      <th>2</th>\n",
       "      <td>Brazil</td>\n",
       "      <td>5</td>\n",
       "      <td>427.68</td>\n",
       "      <td>85.536000</td>\n",
       "      <td>7.011148</td>\n",
       "    </tr>\n",
       "    <tr>\n",
       "      <th>3</th>\n",
       "      <td>France</td>\n",
       "      <td>5</td>\n",
       "      <td>389.07</td>\n",
       "      <td>77.814000</td>\n",
       "      <td>7.781400</td>\n",
       "    </tr>\n",
       "    <tr>\n",
       "      <th>4</th>\n",
       "      <td>Germany</td>\n",
       "      <td>4</td>\n",
       "      <td>334.62</td>\n",
       "      <td>83.655000</td>\n",
       "      <td>8.161463</td>\n",
       "    </tr>\n",
       "    <tr>\n",
       "      <th>5</th>\n",
       "      <td>Czech Republic</td>\n",
       "      <td>2</td>\n",
       "      <td>273.24</td>\n",
       "      <td>136.620000</td>\n",
       "      <td>9.108000</td>\n",
       "    </tr>\n",
       "    <tr>\n",
       "      <th>6</th>\n",
       "      <td>United Kingdom</td>\n",
       "      <td>3</td>\n",
       "      <td>245.52</td>\n",
       "      <td>81.840000</td>\n",
       "      <td>8.768571</td>\n",
       "    </tr>\n",
       "    <tr>\n",
       "      <th>7</th>\n",
       "      <td>Portugal</td>\n",
       "      <td>2</td>\n",
       "      <td>185.13</td>\n",
       "      <td>92.565000</td>\n",
       "      <td>6.383793</td>\n",
       "    </tr>\n",
       "    <tr>\n",
       "      <th>8</th>\n",
       "      <td>India</td>\n",
       "      <td>2</td>\n",
       "      <td>183.15</td>\n",
       "      <td>91.575000</td>\n",
       "      <td>8.721429</td>\n",
       "    </tr>\n",
       "    <tr>\n",
       "      <th>9</th>\n",
       "      <td>other</td>\n",
       "      <td>15</td>\n",
       "      <td>1094.94</td>\n",
       "      <td>72.996000</td>\n",
       "      <td>7.448571</td>\n",
       "    </tr>\n",
       "  </tbody>\n",
       "</table>\n",
       "</div>"
      ],
      "text/plain": [
       "          country  customer_number  total_sales  ave_value_per_customer  \\\n",
       "0             USA               13      1040.49               80.037692   \n",
       "1          Canada                8       535.59               66.948750   \n",
       "2          Brazil                5       427.68               85.536000   \n",
       "3          France                5       389.07               77.814000   \n",
       "4         Germany                4       334.62               83.655000   \n",
       "5  Czech Republic                2       273.24              136.620000   \n",
       "6  United Kingdom                3       245.52               81.840000   \n",
       "7        Portugal                2       185.13               92.565000   \n",
       "8           India                2       183.15               91.575000   \n",
       "9           other               15      1094.94               72.996000   \n",
       "\n",
       "   ave_order_value  \n",
       "0         7.942672  \n",
       "1         7.047237  \n",
       "2         7.011148  \n",
       "3         7.781400  \n",
       "4         8.161463  \n",
       "5         9.108000  \n",
       "6         8.768571  \n",
       "7         6.383793  \n",
       "8         8.721429  \n",
       "9         7.448571  "
      ]
     },
     "execution_count": 7,
     "metadata": {},
     "output_type": "execute_result"
    }
   ],
   "source": [
    "q =  '''\n",
    "WITH country_sort AS\n",
    "    (\n",
    "    SELECT \n",
    "        CASE\n",
    "            WHEN (\n",
    "                SELECT\n",
    "                COUNT(*)\n",
    "                FROM customer\n",
    "                WHERE country = c.country \n",
    "            ) = 1 THEN \"other\"\n",
    "        ELSE c.country\n",
    "        END AS country,\n",
    "        COUNT(DISTINCT c.customer_id) customer_number,\n",
    "        SUM(inv.total) total_sales,\n",
    "        SUM(inv.total)/COUNT(DISTINCT c.customer_id) ave_value_per_customer,\n",
    "        SUM(inv.total)/COUNT(DISTINCT inv.invoice_id) ave_order_value\n",
    "    FROM customer c\n",
    "    INNER JOIN invoice inv ON c.customer_id = inv.customer_id\n",
    "    GROUP BY 1\n",
    "    )\n",
    "    \n",
    "SELECT\n",
    "    country,\n",
    "    customer_number,\n",
    "    total_sales,\n",
    "    ave_value_per_customer,\n",
    "    ave_order_value\n",
    "FROM \n",
    "    (\n",
    "    SELECT \n",
    "        cs.*,\n",
    "        CASE\n",
    "            WHEN cs.country = 'other' THEN 1\n",
    "            ELSE 0\n",
    "        END AS sort\n",
    "    FROM country_sort cs\n",
    "    ORDER BY total_sales DESC\n",
    "    )\n",
    "    ORDER BY sort ASC\n",
    "'''\n",
    "run_query(q)"
   ]
  },
  {
   "cell_type": "markdown",
   "metadata": {
    "collapsed": true
   },
   "source": [
    "# **Visualizing Sales by Country**"
   ]
  },
  {
   "cell_type": "code",
   "execution_count": 8,
   "metadata": {
    "collapsed": false
   },
   "outputs": [
    {
     "data": {
      "image/png": "[encoded data removed]",
      "text/plain": [
       "<matplotlib.figure.Figure at 0x7f8a92b02588>"
      ]
     },
     "metadata": {},
     "output_type": "display_data"
    }
   ],
   "source": [
    "import numpy as np\n",
    "sale_country = run_query(q)\n",
    "sale_country.set_index(\"country\", inplace=True, drop=True)\n",
    "fig = plt.figure(figsize=(10,10))\n",
    "ax1 = fig.add_subplot(2,2,1)\n",
    "ax2 = fig.add_subplot(2,2,2)\n",
    "ax3 = fig.add_subplot(2,2,3)\n",
    "ax4 = fig.add_subplot(2,2,4)\n",
    "fig.subplots_adjust(hspace=.5, wspace=.3)\n",
    "colors = [plt.cm.Accent(i) for i in np.linspace(0, 1, sale_country.shape[0])]\n",
    "\n",
    "# top left\n",
    "sales_breakdown = sale_country[\"total_sales\"].copy()\n",
    "sales_breakdown.name = ''\n",
    "sales_breakdown.plot.pie(\n",
    "    ax=ax1,\n",
    "    startangle=-90,\n",
    "    counterclock=False,\n",
    "    title='Sales Breakdown by Country,\\nNumber of Customers',\n",
    "    colormap=plt.cm.Accent,\n",
    "    fontsize=8,\n",
    "    wedgeprops={'linewidth':0}\n",
    "    \n",
    ")\n",
    "\n",
    "# top right\n",
    "cvd_cols = [\"customer_number\",\"total_sales\"]\n",
    "custs_vs_dollars = sale_country[cvd_cols].copy()\n",
    "custs_vs_dollars.index.name = ''\n",
    "for c in cvd_cols:\n",
    "    custs_vs_dollars[c] /= custs_vs_dollars[c].sum() / 100\n",
    "custs_vs_dollars.plot.bar(\n",
    "    ax=ax2,\n",
    "    colormap=plt.cm.Set1,\n",
    "    title=\"Pct Customers vs Sales\"\n",
    ")\n",
    "ax2.tick_params(top=\"off\", right=\"off\", left=\"off\", bottom=\"off\")\n",
    "ax2.spines[\"top\"].set_visible(False)\n",
    "ax2.spines[\"right\"].set_visible(False)\n",
    "\n",
    "# bottom left\n",
    "cd_pct = sale_country[\"ave_value_per_customer\"].copy()\n",
    "cd_pct.index.name = ''\n",
    "cd_pct.drop(\"other\", inplace=True)\n",
    "cd_pct = cd_pct * 100 / cd_pct.mean() - 100\n",
    "cd_pct.plot.bar(\n",
    "    ax=ax3,\n",
    "    color=colors,\n",
    "    title=\"Average Order,\\nPct Difference from Mean\"\n",
    ")\n",
    "ax3.axhline(0, color='k')\n",
    "ax3.tick_params(top=\"off\", right=\"off\", left=\"off\", bottom=\"off\")\n",
    "ax3.spines[\"top\"].set_visible(False)\n",
    "ax3.spines[\"right\"].set_visible(False)\n",
    "\n",
    "# bottom right\n",
    "ltv = sale_country[\"ave_value_per_customer\"].copy()\n",
    "ltv.index.name = ''\n",
    "ltv.drop(\"other\", inplace=True)\n",
    "ltv.plot.bar(\n",
    "    ax=ax4,\n",
    "    color=colors,\n",
    "    title=\"Customer Lifetime Value, Dollars\"\n",
    ")\n",
    "ax4.tick_params(top=\"off\", right=\"off\", left=\"off\", bottom=\"off\")\n",
    "ax4.spines[\"top\"].set_visible(False)\n",
    "ax4.spines[\"right\"].set_visible(False)"
   ]
  },
  {
   "cell_type": "markdown",
   "metadata": {
    "collapsed": true
   },
   "source": [
    "Based on the data, there may be opportunity in the following countries:\n",
    "\n",
    "* Czech Republic\n",
    "* United Kingdom\n",
    "* India\n",
    "\n",
    "It's worth keeping in mind that because the amount of data from each of these countries is relatively low. Because of this, we should be cautious spending too much money on new marketing campaigns, as the sample size is not large enough to give us high confidence. A better approach would be to run small campaigns in these countries, collecting and analyzing the new customers to make sure that these trends hold with new customers."
   ]
  },
  {
   "cell_type": "markdown",
   "metadata": {},
   "source": [
    "# **Albums vs Individual Tracks**"
   ]
  },
  {
   "cell_type": "code",
   "execution_count": 18,
   "metadata": {
    "collapsed": false
   },
   "outputs": [
    {
     "data": {
      "text/html": [
       "<div>\n",
       "<style scoped>\n",
       "    .dataframe tbody tr th:only-of-type {\n",
       "        vertical-align: middle;\n",
       "    }\n",
       "\n",
       "    .dataframe tbody tr th {\n",
       "        vertical-align: top;\n",
       "    }\n",
       "\n",
       "    .dataframe thead th {\n",
       "        text-align: right;\n",
       "    }\n",
       "</style>\n",
       "<table border=\"1\" class=\"dataframe\">\n",
       "  <thead>\n",
       "    <tr style=\"text-align: right;\">\n",
       "      <th></th>\n",
       "      <th>album_purchase</th>\n",
       "      <th>number_of_invoices</th>\n",
       "      <th>percent</th>\n",
       "    </tr>\n",
       "  </thead>\n",
       "  <tbody>\n",
       "    <tr>\n",
       "      <th>0</th>\n",
       "      <td>No</td>\n",
       "      <td>500</td>\n",
       "      <td>0.814332</td>\n",
       "    </tr>\n",
       "    <tr>\n",
       "      <th>1</th>\n",
       "      <td>Yes</td>\n",
       "      <td>114</td>\n",
       "      <td>0.185668</td>\n",
       "    </tr>\n",
       "  </tbody>\n",
       "</table>\n",
       "</div>"
      ],
      "text/plain": [
       "  album_purchase  number_of_invoices   percent\n",
       "0             No                 500  0.814332\n",
       "1            Yes                 114  0.185668"
      ]
     },
     "execution_count": 18,
     "metadata": {},
     "output_type": "execute_result"
    }
   ],
   "source": [
    "q = '''\n",
    "WITH track_album AS(\n",
    "    SELECT \n",
    "        invoice_id,\n",
    "        MIN(track_id) first_track_id\n",
    "    FROM invoice_line \n",
    "    GROUP BY 1\n",
    ")\n",
    "SELECT\n",
    "    album_purchase,\n",
    "    COUNT(invoice_id) number_of_invoices,\n",
    "    CAST(count(invoice_id) AS FLOAT) / (\n",
    "                                         SELECT COUNT(*) FROM invoice\n",
    "                                      ) percent\n",
    "FROM\n",
    "(\n",
    "    SELECT\n",
    "        ta.*,\n",
    "        CASE\n",
    "            WHEN\n",
    "                (\n",
    "                SELECT t.track_id FROM track t\n",
    "                WHERE t.album_id = (\n",
    "                                    SELECT t2.album_id FROM track t2\n",
    "                                    WHERE t2.track_id = ta.first_track_id\n",
    "                                    )\n",
    "                \n",
    "                EXCEPT\n",
    "                \n",
    "                SELECT il2.track_id FROM invoice_line il2\n",
    "                WHERE il2.invoice_id = ta.invoice_id\n",
    "                ) IS NULL\n",
    "            \n",
    "            AND\n",
    "                (\n",
    "                SELECT il2.track_id FROM invoice_line il2\n",
    "                WHERE il2.invoice_id = ta.invoice_id\n",
    "                \n",
    "                EXCEPT\n",
    "                SELECT t.track_id FROM track t\n",
    "                WHERE t.album_id = (\n",
    "                                    SELECT t2.album_id\n",
    "                                    FROM track t2\n",
    "                                    WHERE t2.track_id = ta.first_track_id\n",
    "                                    )\n",
    "                ) IS NULL\n",
    "            THEN \"Yes\"\n",
    "            ELSE \"No\"\n",
    "        END AS album_purchase\n",
    "    FROM track_album ta\n",
    ")\n",
    "GROUP BY album_purchase\n",
    "'''\n",
    "run_query(q)"
   ]
  },
  {
   "cell_type": "code",
   "execution_count": 16,
   "metadata": {
    "collapsed": false
   },
   "outputs": [
    {
     "data": {
      "text/html": [
       "<div>\n",
       "<style scoped>\n",
       "    .dataframe tbody tr th:only-of-type {\n",
       "        vertical-align: middle;\n",
       "    }\n",
       "\n",
       "    .dataframe tbody tr th {\n",
       "        vertical-align: top;\n",
       "    }\n",
       "\n",
       "    .dataframe thead th {\n",
       "        text-align: right;\n",
       "    }\n",
       "</style>\n",
       "<table border=\"1\" class=\"dataframe\">\n",
       "  <thead>\n",
       "    <tr style=\"text-align: right;\">\n",
       "      <th></th>\n",
       "      <th>album_purchase</th>\n",
       "      <th>number_of_invoices</th>\n",
       "      <th>percent</th>\n",
       "    </tr>\n",
       "  </thead>\n",
       "  <tbody>\n",
       "    <tr>\n",
       "      <th>0</th>\n",
       "      <td>no</td>\n",
       "      <td>500</td>\n",
       "      <td>0.814332</td>\n",
       "    </tr>\n",
       "    <tr>\n",
       "      <th>1</th>\n",
       "      <td>yes</td>\n",
       "      <td>114</td>\n",
       "      <td>0.185668</td>\n",
       "    </tr>\n",
       "  </tbody>\n",
       "</table>\n",
       "</div>"
      ],
      "text/plain": [
       "  album_purchase  number_of_invoices   percent\n",
       "0             no                 500  0.814332\n",
       "1            yes                 114  0.185668"
      ]
     },
     "execution_count": 16,
     "metadata": {},
     "output_type": "execute_result"
    }
   ],
   "source": []
  },
  {
   "cell_type": "code",
   "execution_count": null,
   "metadata": {
    "collapsed": true
   },
   "outputs": [],
   "source": []
  }
 ],
 "metadata": {
  "kernelspec": {
   "display_name": "Python 3",
   "language": "python",
   "name": "python3"
  },
  "language_info": {
   "codemirror_mode": {
    "name": "ipython",
    "version": 3
   },
   "file_extension": ".py",
   "mimetype": "text/x-python",
   "name": "python",
   "nbconvert_exporter": "python",
   "pygments_lexer": "ipython3",
   "version": "3.4.3"
  }
 },
 "nbformat": 4,
 "nbformat_minor": 2
}
